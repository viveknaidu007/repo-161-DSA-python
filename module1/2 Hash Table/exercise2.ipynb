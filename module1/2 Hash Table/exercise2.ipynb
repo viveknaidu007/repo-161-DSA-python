{
 "cells": [
  {
   "cell_type": "code",
   "execution_count": 1,
   "id": "0cb19fb3-6b82-45da-839e-08cb93a8cc48",
   "metadata": {},
   "outputs": [],
   "source": [
    "poem_dict = {}\n",
    "\n",
    "with open(\"poem.txt\", \"r\") as f:\n",
    "    for val in f:\n",
    "        tokens = val.split(\" \")\n",
    "        for token in tokens:\n",
    "            token = token.replace(\"\\n\", \"\")\n",
    "            if token in poem_dict:\n",
    "                poem_dict[token] += 1\n",
    "            else:\n",
    "                poem_dict[token] = 1"
   ]
  },
  {
   "cell_type": "code",
   "execution_count": 3,
   "id": "5305b4f4-cbeb-4297-a43d-5a389f71d207",
   "metadata": {},
   "outputs": [
    {
     "name": "stdout",
     "output_type": "stream",
     "text": [
      "{'Two': 2, 'roads': 2, 'diverged': 2, 'in': 3, 'a': 3, 'yellow': 1, 'wood,': 2, 'And': 6, 'sorry': 1, 'I': 8, 'could': 2, 'not': 1, 'travel': 1, 'both': 2, 'be': 2, 'one': 3, 'traveler,': 1, 'long': 1, 'stood': 1, 'looked': 1, 'down': 1, 'as': 5, 'far': 1, 'To': 1, 'where': 1, 'it': 2, 'bent': 1, 'the': 8, 'undergrowth;': 1, '': 3, 'Then': 1, 'took': 2, 'other,': 1, 'just': 1, 'fair,': 1, 'having': 1, 'perhaps': 1, 'better': 1, 'claim,': 1, 'Because': 1, 'was': 1, 'grassy': 1, 'and': 3, 'wanted': 1, 'wear;': 1, 'Though': 1, 'for': 2, 'that': 3, 'passing': 1, 'there': 1, 'Had': 1, 'worn': 1, 'them': 1, 'really': 1, 'about': 1, 'same,': 1, 'morning': 1, 'equally': 1, 'lay': 1, 'In': 1, 'leaves': 1, 'no': 1, 'step': 1, 'had': 1, 'trodden': 1, 'black.': 1, 'Oh,': 1, 'kept': 1, 'first': 1, 'another': 1, 'day!': 1, 'Yet': 1, 'knowing': 1, 'how': 1, 'way': 1, 'leads': 1, 'on': 1, 'to': 1, 'way,': 1, 'doubted': 1, 'if': 1, 'should': 1, 'ever': 1, 'come': 1, 'back.': 1, 'shall': 1, 'telling': 1, 'this': 1, 'with': 1, 'sigh': 1, 'Somewhere': 1, 'ages': 2, 'hence:': 1, 'Iâ€”': 1, 'less': 1, 'traveled': 1, 'by,': 1, 'has': 1, 'made': 1, 'all': 1, 'difference.': 1}\n"
     ]
    }
   ],
   "source": [
    "print(poem_dict)"
   ]
  },
  {
   "cell_type": "code",
   "execution_count": null,
   "id": "0988da46-78bf-4a90-9c8b-73e2b3889786",
   "metadata": {},
   "outputs": [],
   "source": []
  }
 ],
 "metadata": {
  "kernelspec": {
   "display_name": "Python 3 (ipykernel)",
   "language": "python",
   "name": "python3"
  },
  "language_info": {
   "codemirror_mode": {
    "name": "ipython",
    "version": 3
   },
   "file_extension": ".py",
   "mimetype": "text/x-python",
   "name": "python",
   "nbconvert_exporter": "python",
   "pygments_lexer": "ipython3",
   "version": "3.12.4"
  }
 },
 "nbformat": 4,
 "nbformat_minor": 5
}
