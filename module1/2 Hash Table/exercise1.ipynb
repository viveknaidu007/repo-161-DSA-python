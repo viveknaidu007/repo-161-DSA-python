{
 "cells": [
  {
   "cell_type": "markdown",
   "id": "d1e35611-086b-4db2-a75d-539300d8e3a1",
   "metadata": {},
   "source": [
    "**nyc_weather.csv**contains new york city weather for first few days in the month of January. Write a program that can answer following,\n",
    "1. What was the average temperature in first week of Jan\n",
    "2. What was the maximum temperature in first 10 days of Jan\n",
    "3. Figure out data structure that is best for this problem"
   ]
  },
  {
   "cell_type": "code",
   "execution_count": 1,
   "id": "70f1257a-fd6c-4cb5-9663-846adb224655",
   "metadata": {},
   "outputs": [
    {
     "name": "stdout",
     "output_type": "stream",
     "text": [
      "Invalid Index! And will ignore the row\n"
     ]
    }
   ],
   "source": [
    "dict_report = {}\n",
    "with open(\"nyc_weather.csv\", \"r\") as f:\n",
    "    for val in f:\n",
    "        tokens = val.split(',')\n",
    "        dates = tokens[0]\n",
    "        try:\n",
    "            temps = int(tokens[1])\n",
    "            dict_report[dates] = temps\n",
    "        except:\n",
    "            print(\"Invalid Index! And will ignore the row\")"
   ]
  },
  {
   "cell_type": "code",
   "execution_count": 2,
   "id": "10d4a692-49c3-4002-8cd6-8350a8b192f1",
   "metadata": {},
   "outputs": [
    {
     "data": {
      "text/plain": [
       "{'Jan 1': 27,\n",
       " 'Jan 2': 31,\n",
       " 'Jan 3': 23,\n",
       " 'Jan 4': 34,\n",
       " 'Jan 5': 37,\n",
       " 'Jan 6': 38,\n",
       " 'Jan 7': 29,\n",
       " 'Jan 8': 30,\n",
       " 'Jan 9': 35,\n",
       " 'Jan 10': 30}"
      ]
     },
     "execution_count": 2,
     "metadata": {},
     "output_type": "execute_result"
    }
   ],
   "source": [
    "dict_report"
   ]
  },
  {
   "cell_type": "markdown",
   "id": "028b678b-c6d7-4755-a91e-1aedd70bf295",
   "metadata": {},
   "source": [
    "1. What was the average temperature in first week of Jan"
   ]
  },
  {
   "cell_type": "code",
   "execution_count": 3,
   "id": "74fa809c-630b-4b81-815b-4a3948a8fa98",
   "metadata": {},
   "outputs": [
    {
     "name": "stdout",
     "output_type": "stream",
     "text": [
      "31.285714285714285\n"
     ]
    }
   ],
   "source": [
    "add = 0\n",
    "total = 7\n",
    "for key in dict_report:\n",
    "    add += dict_report[key]\n",
    "    if key == 'Jan 7':\n",
    "        dict_result = add/total\n",
    "        break\n",
    "print(dict_result)"
   ]
  },
  {
   "cell_type": "markdown",
   "id": "165ac00f-ba2a-4be5-a884-433d621e78c2",
   "metadata": {},
   "source": [
    "dict/hash is not effictive here, so lets try array"
   ]
  },
  {
   "cell_type": "code",
   "execution_count": 4,
   "id": "a5b8f3a5-dec6-46ec-92ff-7e55b1d1b4d2",
   "metadata": {},
   "outputs": [
    {
     "name": "stdout",
     "output_type": "stream",
     "text": [
      "Invalid Index! And will ignore the row\n"
     ]
    }
   ],
   "source": [
    "arr_report = []\n",
    "with open(\"nyc_weather.csv\", \"r\") as f:\n",
    "    for val in f:\n",
    "        tokens = val.split(',')\n",
    "        try:\n",
    "            temps = int(tokens[1])\n",
    "            arr_report.append(temps)\n",
    "        except:\n",
    "            print(\"Invalid Index! And will ignore the row\")"
   ]
  },
  {
   "cell_type": "code",
   "execution_count": 5,
   "id": "4f677add-940c-42cb-9225-0f444208a39c",
   "metadata": {},
   "outputs": [
    {
     "data": {
      "text/plain": [
       "[27, 31, 23, 34, 37, 38, 29, 30, 35, 30]"
      ]
     },
     "execution_count": 5,
     "metadata": {},
     "output_type": "execute_result"
    }
   ],
   "source": [
    "arr_report"
   ]
  },
  {
   "cell_type": "code",
   "execution_count": 6,
   "id": "063d407d-1f8a-4ee3-b687-d91dc60656cc",
   "metadata": {},
   "outputs": [],
   "source": [
    "arr_result = sum(arr_report[:7])/7"
   ]
  },
  {
   "cell_type": "code",
   "execution_count": 7,
   "id": "bd9289fe-925f-465d-b215-633134d6f206",
   "metadata": {},
   "outputs": [
    {
     "data": {
      "text/plain": [
       "31.285714285714285"
      ]
     },
     "execution_count": 7,
     "metadata": {},
     "output_type": "execute_result"
    }
   ],
   "source": [
    "arr_result"
   ]
  },
  {
   "cell_type": "markdown",
   "id": "4a87e411-48b8-480e-ad8b-aed6d6f4d710",
   "metadata": {},
   "source": [
    "2. What was the maximum temperature in first 10 days of Jan"
   ]
  },
  {
   "cell_type": "code",
   "execution_count": 8,
   "id": "bea9f54b-cbe8-4169-8d3f-93c0be0ad905",
   "metadata": {},
   "outputs": [],
   "source": [
    "max_temp = max(arr_report[:10])"
   ]
  },
  {
   "cell_type": "code",
   "execution_count": 9,
   "id": "16f14578-7505-47db-acb2-ad14da721063",
   "metadata": {},
   "outputs": [
    {
     "data": {
      "text/plain": [
       "38"
      ]
     },
     "execution_count": 9,
     "metadata": {},
     "output_type": "execute_result"
    }
   ],
   "source": [
    "max_temp"
   ]
  },
  {
   "cell_type": "markdown",
   "id": "52c46f9e-67e9-4ce4-9bc3-bc0f7ebbad48",
   "metadata": {},
   "source": [
    "What was the temperature on Jan 9?"
   ]
  },
  {
   "cell_type": "code",
   "execution_count": 12,
   "id": "3b258972-eef7-4bb9-a233-b29f42022516",
   "metadata": {},
   "outputs": [
    {
     "data": {
      "text/plain": [
       "35"
      ]
     },
     "execution_count": 12,
     "metadata": {},
     "output_type": "execute_result"
    }
   ],
   "source": [
    "# using dict\n",
    "dict_report['Jan 9']"
   ]
  },
  {
   "cell_type": "markdown",
   "id": "a16e0cda-9c5a-484f-af3f-97544ff212f3",
   "metadata": {},
   "source": [
    "What was the temperature on Jan 4?"
   ]
  },
  {
   "cell_type": "code",
   "execution_count": 13,
   "id": "920a2bb8-7eaf-485a-be91-acf13199b683",
   "metadata": {},
   "outputs": [
    {
     "data": {
      "text/plain": [
       "34"
      ]
     },
     "execution_count": 13,
     "metadata": {},
     "output_type": "execute_result"
    }
   ],
   "source": [
    "dict_report['Jan 4']"
   ]
  },
  {
   "cell_type": "code",
   "execution_count": null,
   "id": "9478fdf9-f796-4294-84b9-af9de5a90685",
   "metadata": {},
   "outputs": [],
   "source": []
  }
 ],
 "metadata": {
  "kernelspec": {
   "display_name": "Python 3 (ipykernel)",
   "language": "python",
   "name": "python3"
  },
  "language_info": {
   "codemirror_mode": {
    "name": "ipython",
    "version": 3
   },
   "file_extension": ".py",
   "mimetype": "text/x-python",
   "name": "python",
   "nbconvert_exporter": "python",
   "pygments_lexer": "ipython3",
   "version": "3.12.4"
  }
 },
 "nbformat": 4,
 "nbformat_minor": 5
}
