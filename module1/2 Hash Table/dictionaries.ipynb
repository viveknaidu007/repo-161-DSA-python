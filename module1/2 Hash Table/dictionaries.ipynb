{
 "cells": [
  {
   "cell_type": "markdown",
   "id": "38f8a721-940c-4f1a-a2f8-772094b2afa5",
   "metadata": {},
   "source": [
    "## Array"
   ]
  },
  {
   "cell_type": "code",
   "execution_count": 2,
   "id": "10669fef-1908-4c20-bf6a-664aa11e1f5c",
   "metadata": {},
   "outputs": [],
   "source": [
    "stocks = []\n",
    "with open(\"stock_prices.csv\", \"r\") as f:\n",
    "    for val in f:\n",
    "        tokens = val.split(',')\n",
    "        dates = tokens[0]\n",
    "        values = float(tokens[1])\n",
    "        stocks.append([dates, values])"
   ]
  },
  {
   "cell_type": "code",
   "execution_count": 3,
   "id": "d48340ca-c4f7-40a2-af6d-04cab6ef0300",
   "metadata": {},
   "outputs": [
    {
     "data": {
      "text/plain": [
       "[['march 6', 310.0],\n",
       " ['march 7', 340.0],\n",
       " ['march 8', 380.0],\n",
       " ['march 9', 302.0],\n",
       " ['march 10', 297.0],\n",
       " ['march 11', 323.0]]"
      ]
     },
     "execution_count": 3,
     "metadata": {},
     "output_type": "execute_result"
    }
   ],
   "source": [
    "stocks"
   ]
  },
  {
   "cell_type": "code",
   "execution_count": 4,
   "id": "9fcb9e9b-07fc-4da8-acba-618e0939528a",
   "metadata": {},
   "outputs": [
    {
     "name": "stdout",
     "output_type": "stream",
     "text": [
      "302.0\n"
     ]
    }
   ],
   "source": [
    "for ele in stocks:\n",
    "    if ele[0] == 'march 9':\n",
    "        print(ele[1])"
   ]
  },
  {
   "cell_type": "markdown",
   "id": "c72661cd-6d50-428d-b9b1-ae090b9456ce",
   "metadata": {},
   "source": [
    "complexity: O(n)"
   ]
  },
  {
   "cell_type": "markdown",
   "id": "5f35254f-0330-4a5e-b41c-5eb49be8e96c",
   "metadata": {},
   "source": [
    "## Dictionary/Hash table"
   ]
  },
  {
   "cell_type": "code",
   "execution_count": 5,
   "id": "12933fec-7e2e-4cb5-95bd-0ad8e1d10b01",
   "metadata": {},
   "outputs": [],
   "source": [
    "stocks = {}\n",
    "with open(\"stock_prices.csv\", \"r\") as f:\n",
    "    for val in f:\n",
    "        tokens = val.split(',')\n",
    "        dates = tokens[0]\n",
    "        values = float(tokens[1])\n",
    "        stocks[dates] = values"
   ]
  },
  {
   "cell_type": "code",
   "execution_count": 6,
   "id": "7b728646-6ecd-4fa7-824f-3f6d9ff908f8",
   "metadata": {},
   "outputs": [
    {
     "data": {
      "text/plain": [
       "{'march 6': 310.0,\n",
       " 'march 7': 340.0,\n",
       " 'march 8': 380.0,\n",
       " 'march 9': 302.0,\n",
       " 'march 10': 297.0,\n",
       " 'march 11': 323.0}"
      ]
     },
     "execution_count": 6,
     "metadata": {},
     "output_type": "execute_result"
    }
   ],
   "source": [
    "stocks"
   ]
  },
  {
   "cell_type": "code",
   "execution_count": 7,
   "id": "349e1894-23bd-4015-954f-aca2853a9918",
   "metadata": {},
   "outputs": [
    {
     "data": {
      "text/plain": [
       "302.0"
      ]
     },
     "execution_count": 7,
     "metadata": {},
     "output_type": "execute_result"
    }
   ],
   "source": [
    "stocks['march 9']"
   ]
  },
  {
   "cell_type": "markdown",
   "id": "999d2e74-4cae-4ed0-b984-596f9327943a",
   "metadata": {},
   "source": [
    "Complexity: O(1) -> better performance"
   ]
  },
  {
   "cell_type": "code",
   "execution_count": null,
   "id": "4a982251-6ad8-4b09-881d-77b352c65639",
   "metadata": {},
   "outputs": [],
   "source": []
  }
 ],
 "metadata": {
  "kernelspec": {
   "display_name": "Python 3 (ipykernel)",
   "language": "python",
   "name": "python3"
  },
  "language_info": {
   "codemirror_mode": {
    "name": "ipython",
    "version": 3
   },
   "file_extension": ".py",
   "mimetype": "text/x-python",
   "name": "python",
   "nbconvert_exporter": "python",
   "pygments_lexer": "ipython3",
   "version": "3.12.4"
  }
 },
 "nbformat": 4,
 "nbformat_minor": 5
}
