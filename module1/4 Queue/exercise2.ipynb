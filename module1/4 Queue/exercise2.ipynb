{
 "cells": [
  {
   "cell_type": "markdown",
   "id": "c22d319f-e144-4a2c-affd-f8860181f281",
   "metadata": {},
   "source": [
    "2. Write a program to print binary numbers from 1 to 10 using Queue. Use Queue class implemented in main tutorial.\r\n",
    "Binary sequence should look like,\r\n",
    "```\r\n",
    "    1\r\n",
    "    10\r\n",
    "    11\r\n",
    "    100\r\n",
    "    101\r\n",
    "    110\r\n",
    "    111\r\n",
    "    1000\r\n",
    "    1001\r\n",
    "    1010\r\n",
    "```\r\n",
    "Hint: Notice a pattern above. After 1 second and third number is 1+0 and 1+1. 4th and 5th number are second number (i.e. 10) + 0 and second number (i.e. 10) + 1.\r\n",
    "\r\n",
    "You also need to add front() function in queue class that can return the front element in the queue."
   ]
  },
  {
   "cell_type": "code",
   "execution_count": 1,
   "id": "2e67085a-63e4-4efe-9a15-54be16878850",
   "metadata": {},
   "outputs": [],
   "source": [
    "from collections import deque"
   ]
  },
  {
   "cell_type": "code",
   "execution_count": 2,
   "id": "f0e3e92d-87c9-4550-a094-388efb9cc6a1",
   "metadata": {},
   "outputs": [],
   "source": [
    "class Queue:\n",
    "    def __init__(self):\n",
    "        self.buffer = deque()\n",
    "        \n",
    "    def enqueue(self, item):\n",
    "        return self.buffer.appendleft(item)\n",
    "        \n",
    "    def dequeue(self):\n",
    "        if len(self.buffer)==0:\n",
    "            raise IndexError(\"Queue is empty\")\n",
    "        else:\n",
    "            return self.buffer.pop()\n",
    "            \n",
    "    def peek(self):\n",
    "        return self.buffer\n",
    "        \n",
    "    def size(self):\n",
    "        return len(self.buffer)\n",
    "        \n",
    "    def front(self):\n",
    "        return self.buffer[-1]\n",
    "\n",
    "    def get_binary(self, n):\n",
    "        self.enqueue(\"1\")\n",
    "        for i in range(n):\n",
    "            front = self.front()\n",
    "            print(front)\n",
    "            self.enqueue(front+'0')\n",
    "            self.enqueue(front+'1')\n",
    "\n",
    "            self.dequeue()"
   ]
  },
  {
   "cell_type": "code",
   "execution_count": 3,
   "id": "6a5f3ce3-482d-4beb-b179-f22927f7f505",
   "metadata": {},
   "outputs": [
    {
     "name": "stdout",
     "output_type": "stream",
     "text": [
      "1\n",
      "10\n",
      "11\n",
      "100\n",
      "101\n",
      "110\n",
      "111\n",
      "1000\n",
      "1001\n",
      "1010\n"
     ]
    }
   ],
   "source": [
    "if __name__ == \"__main__\":\n",
    "    queue = Queue()\n",
    "    queue.get_binary(10)"
   ]
  }
 ],
 "metadata": {
  "kernelspec": {
   "display_name": "Python 3 (ipykernel)",
   "language": "python",
   "name": "python3"
  },
  "language_info": {
   "codemirror_mode": {
    "name": "ipython",
    "version": 3
   },
   "file_extension": ".py",
   "mimetype": "text/x-python",
   "name": "python",
   "nbconvert_exporter": "python",
   "pygments_lexer": "ipython3",
   "version": "3.12.4"
  }
 },
 "nbformat": 4,
 "nbformat_minor": 5
}
