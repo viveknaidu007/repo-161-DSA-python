{
 "cells": [
  {
   "cell_type": "code",
   "execution_count": 25,
   "id": "95f676b7-0ef8-420b-abc3-c81b4672c0e1",
   "metadata": {},
   "outputs": [],
   "source": [
    "import time\n",
    "import threading"
   ]
  },
  {
   "cell_type": "code",
   "execution_count": 27,
   "id": "ba197bbe-3bd4-4205-be44-db72df657dd4",
   "metadata": {},
   "outputs": [],
   "source": [
    "def get_square(arr):\n",
    "    for num in arr:\n",
    "        print(f\"square of {num}: {num*num}\")\n",
    "        time.sleep(0.2)\n",
    "    \n",
    "def get_cube(arr):\n",
    "    for num in arr:\n",
    "        print(f\"cube of {num}: {num*num*num}\")\n",
    "        time.sleep(0.5)"
   ]
  },
  {
   "cell_type": "code",
   "execution_count": 28,
   "id": "36f37187-7a82-48f2-8f2b-8ce9f8a24a62",
   "metadata": {},
   "outputs": [
    {
     "name": "stdout",
     "output_type": "stream",
     "text": [
      "square of 2: 4\n",
      "cube of 2: 8\n",
      "square of 4: 16\n",
      "square of 6: 36\n",
      "cube of 4: 64\n",
      "square of 8: 64\n",
      "cube of 6: 216\n",
      "cube of 8: 512\n",
      "Time taken to execute: 2.0087618827819824\n"
     ]
    }
   ],
   "source": [
    "arr = [2, 4, 6, 8]\n",
    "t = time.time()\n",
    "\n",
    "th1 = threading.Thread(target=get_square, args=(arr,))\n",
    "th2 = threading.Thread(target=get_cube, args=(arr,))\n",
    "\n",
    "th1.start()\n",
    "th2.start()\n",
    "\n",
    "th1.join()\n",
    "th2.join()\n",
    "\n",
    "print(f\"Time taken to execute: {time.time()-t}\")"
   ]
  },
  {
   "cell_type": "code",
   "execution_count": null,
   "id": "d98314f9-32c4-48c2-9414-4c74ca94dff6",
   "metadata": {},
   "outputs": [],
   "source": []
  }
 ],
 "metadata": {
  "kernelspec": {
   "display_name": "Python 3 (ipykernel)",
   "language": "python",
   "name": "python3"
  },
  "language_info": {
   "codemirror_mode": {
    "name": "ipython",
    "version": 3
   },
   "file_extension": ".py",
   "mimetype": "text/x-python",
   "name": "python",
   "nbconvert_exporter": "python",
   "pygments_lexer": "ipython3",
   "version": "3.12.4"
  }
 },
 "nbformat": 4,
 "nbformat_minor": 5
}
