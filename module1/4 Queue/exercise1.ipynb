{
 "cells": [
  {
   "cell_type": "markdown",
   "id": "04de8875-de49-4105-8cad-2ea3fb3313b2",
   "metadata": {},
   "source": [
    "1. Design a food ordering system where your python program will run two threads,\n",
    "    1. Place Order: This thread will be placing an order and inserting that into a queue. This thread places new order every 0.5 second. (hint: use time.sleep(0.5) function)\n",
    "    1. Serve Order: This thread will server the order. All you need to do is pop the order out of the queue and print it. This thread serves an order every 2 seconds. Also start this thread 1 second after place order thread is started.\n",
    "\n",
    "Pass following list as an argument to place order thread\n",
    "```\n",
    "orders = ['pizza','samosa','pasta','biryani','burger']\n",
    "```\n",
    "\n",
    "This problem is a producer,consumer problem where place_order thread is producing orders whereas server_order thread is consuming the food orders.\n",
    "Use Queue class we implemented before"
   ]
  },
  {
   "cell_type": "code",
   "execution_count": 11,
   "id": "c02771f7-4566-4801-b64f-75cecf84ae06",
   "metadata": {},
   "outputs": [],
   "source": [
    "from collections import deque\n",
    "import time\n",
    "import threading"
   ]
  },
  {
   "cell_type": "code",
   "execution_count": 29,
   "id": "3507e4d1-c7a9-4ed7-9814-4a4fbc4d1712",
   "metadata": {},
   "outputs": [],
   "source": [
    "class Queue:\n",
    "    def __init__(self):\n",
    "        self.buffer = deque()\n",
    "    def enqueue(self, item):\n",
    "        return self.buffer.appendleft(item)\n",
    "    def dequeue(self):\n",
    "        if len(self.buffer)==0:\n",
    "            raise IndexError(\"Queue is empty\")\n",
    "        else:\n",
    "            return self.buffer.pop()\n",
    "    def peek(self):\n",
    "        return self.buffer\n",
    "    def size(self):\n",
    "        return len(self.buffer)\n",
    "\n",
    "class Order(Queue):\n",
    "    def placeorder(self, items):\n",
    "        for item in items:\n",
    "            print(f\"Placing order: {item}\")\n",
    "            self.enqueue(item)\n",
    "            time.sleep(0.5)\n",
    "            \n",
    "    def serveorder(self):\n",
    "        time.sleep(1)\n",
    "        while True:\n",
    "            try:\n",
    "                order = self.dequeue()\n",
    "                print(f\"Serving order: {order}\")\n",
    "                time.sleep(2)\n",
    "            except IndexError:\n",
    "                break"
   ]
  },
  {
   "cell_type": "code",
   "execution_count": 30,
   "id": "fdd5e031-3d8c-4b58-b73a-d2b43b17780b",
   "metadata": {},
   "outputs": [
    {
     "name": "stdout",
     "output_type": "stream",
     "text": [
      "Placing order: pizza\n",
      "Placing order: samosa\n",
      "Placing order: pasta\n",
      "Serving order: pizza\n",
      "Placing order: biryani\n",
      "Placing order: burger\n",
      "Serving order: samosa\n",
      "Serving order: pasta\n",
      "Serving order: biryani\n",
      "Serving order: burger\n",
      "Time taken to execute: 11.013804197311401\n"
     ]
    }
   ],
   "source": [
    "items = ['pizza','samosa','pasta','biryani','burger']\n",
    "sys = Order()\n",
    "t = time.time()\n",
    "\n",
    "th1 = threading.Thread(target=sys.placeorder, args=(items,))\n",
    "th2 = threading.Thread(target=sys.serveorder)\n",
    "\n",
    "th1.start()\n",
    "th2.start()\n",
    "\n",
    "th1.join()\n",
    "th2.join()\n",
    "\n",
    "print(f\"Time taken to execute: {time.time()-t}\")"
   ]
  },
  {
   "cell_type": "code",
   "execution_count": null,
   "id": "149b9c46-fcaf-488c-ae3b-4f2afa083254",
   "metadata": {},
   "outputs": [],
   "source": []
  }
 ],
 "metadata": {
  "kernelspec": {
   "display_name": "Python 3 (ipykernel)",
   "language": "python",
   "name": "python3"
  },
  "language_info": {
   "codemirror_mode": {
    "name": "ipython",
    "version": 3
   },
   "file_extension": ".py",
   "mimetype": "text/x-python",
   "name": "python",
   "nbconvert_exporter": "python",
   "pygments_lexer": "ipython3",
   "version": "3.12.4"
  }
 },
 "nbformat": 4,
 "nbformat_minor": 5
}
