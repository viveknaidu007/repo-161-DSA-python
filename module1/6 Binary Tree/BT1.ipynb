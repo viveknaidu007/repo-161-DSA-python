{
 "cells": [
  {
   "cell_type": "code",
   "execution_count": 7,
   "id": "230113b3-5c78-41e9-a83e-7835b7f3da86",
   "metadata": {},
   "outputs": [],
   "source": [
    "class BinaryTree:\n",
    "    def __init__(self, data):\n",
    "        self.data = data\n",
    "        self.left = None\n",
    "        self.right = None\n",
    "        \n",
    "    def add_child(self, data):\n",
    "        if data == self.data:\n",
    "            return # node already exist\n",
    "\n",
    "        elif data < self.data:\n",
    "            # data < root i.e., left subtree\n",
    "            if self.left:\n",
    "                self.left.add_child(data)\n",
    "            else:\n",
    "                self.left = BinaryTree(data)\n",
    "                \n",
    "        else:\n",
    "            # data > root i.e., right subtree\n",
    "            if self.right:\n",
    "                self.right.add_child(data)\n",
    "            else:\n",
    "                self.right = BinaryTree(data)\n",
    "\n",
    "    def in_order(self):\n",
    "        elements = []\n",
    "        # left\n",
    "        if self.left:\n",
    "            elements += self.left.in_order()\n",
    "            \n",
    "        # root\n",
    "        elements.append(self.data)\n",
    "\n",
    "        # right\n",
    "        if self.right:\n",
    "            elements += self.right.in_order()\n",
    "\n",
    "        return elements\n",
    "\n",
    "    def search(self, val):\n",
    "        # if val -> root\n",
    "        if val == self.data:\n",
    "            return True\n",
    "\n",
    "        # if val < root i.e., in left subtree\n",
    "        elif val < self.data:\n",
    "            if self.left:\n",
    "                return self.left.search(val)\n",
    "            else:\n",
    "                return False\n",
    "                \n",
    "        # if val > root i.e., in right subtree\n",
    "        else:\n",
    "            if self.right:\n",
    "                return self.right.search(val)\n",
    "            else:\n",
    "                return False"
   ]
  },
  {
   "cell_type": "code",
   "execution_count": 8,
   "id": "ac1ca238-d881-4a6f-a6df-98b862271589",
   "metadata": {},
   "outputs": [],
   "source": [
    "def build_tree(elements):\n",
    "    root = BinaryTree(elements[0])\n",
    "\n",
    "    for i in range(1, len(elements)):\n",
    "        root.add_child(elements[i])\n",
    "\n",
    "    return root"
   ]
  },
  {
   "cell_type": "code",
   "execution_count": 19,
   "id": "0b2e714c-49c9-4a2b-b532-16214595f316",
   "metadata": {},
   "outputs": [
    {
     "name": "stdout",
     "output_type": "stream",
     "text": [
      "[1, 4, 9, 17, 18, 20, 23, 34]\n",
      "True\n"
     ]
    }
   ],
   "source": [
    "if __name__ == \"__main__\":\n",
    "    myList = [17, 4, 1, 20, 9, 23, 18, 34, 18, 34, 18, 4]\n",
    "    bt = build_tree(myList)\n",
    "    \n",
    "    print(bt.in_order())\n",
    "\n",
    "    # search\n",
    "    print(bt.search(34))"
   ]
  },
  {
   "cell_type": "code",
   "execution_count": null,
   "id": "3ec7cba2-5c87-4a46-92a9-ff2ee23bf786",
   "metadata": {},
   "outputs": [],
   "source": []
  }
 ],
 "metadata": {
  "kernelspec": {
   "display_name": "Python 3 (ipykernel)",
   "language": "python",
   "name": "python3"
  },
  "language_info": {
   "codemirror_mode": {
    "name": "ipython",
    "version": 3
   },
   "file_extension": ".py",
   "mimetype": "text/x-python",
   "name": "python",
   "nbconvert_exporter": "python",
   "pygments_lexer": "ipython3",
   "version": "3.12.4"
  }
 },
 "nbformat": 4,
 "nbformat_minor": 5
}
