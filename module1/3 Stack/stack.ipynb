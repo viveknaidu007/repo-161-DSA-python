{
 "cells": [
  {
   "cell_type": "code",
   "execution_count": 1,
   "id": "0db00d8a-4fe2-40c0-a9a3-fb87b60c707d",
   "metadata": {},
   "outputs": [],
   "source": [
    "from collections import deque\n",
    "\n",
    "stack = deque()"
   ]
  },
  {
   "cell_type": "code",
   "execution_count": 2,
   "id": "0f80b785-8ab9-4539-8ec0-ddf62c86a633",
   "metadata": {
    "collapsed": true,
    "jupyter": {
     "outputs_hidden": true
    },
    "scrolled": true
   },
   "outputs": [
    {
     "data": {
      "text/plain": [
       "['__add__',\n",
       " '__class__',\n",
       " '__class_getitem__',\n",
       " '__contains__',\n",
       " '__copy__',\n",
       " '__delattr__',\n",
       " '__delitem__',\n",
       " '__dir__',\n",
       " '__doc__',\n",
       " '__eq__',\n",
       " '__format__',\n",
       " '__ge__',\n",
       " '__getattribute__',\n",
       " '__getitem__',\n",
       " '__getstate__',\n",
       " '__gt__',\n",
       " '__hash__',\n",
       " '__iadd__',\n",
       " '__imul__',\n",
       " '__init__',\n",
       " '__init_subclass__',\n",
       " '__iter__',\n",
       " '__le__',\n",
       " '__len__',\n",
       " '__lt__',\n",
       " '__module__',\n",
       " '__mul__',\n",
       " '__ne__',\n",
       " '__new__',\n",
       " '__reduce__',\n",
       " '__reduce_ex__',\n",
       " '__repr__',\n",
       " '__reversed__',\n",
       " '__rmul__',\n",
       " '__setattr__',\n",
       " '__setitem__',\n",
       " '__sizeof__',\n",
       " '__str__',\n",
       " '__subclasshook__',\n",
       " 'append',\n",
       " 'appendleft',\n",
       " 'clear',\n",
       " 'copy',\n",
       " 'count',\n",
       " 'extend',\n",
       " 'extendleft',\n",
       " 'index',\n",
       " 'insert',\n",
       " 'maxlen',\n",
       " 'pop',\n",
       " 'popleft',\n",
       " 'remove',\n",
       " 'reverse',\n",
       " 'rotate']"
      ]
     },
     "execution_count": 2,
     "metadata": {},
     "output_type": "execute_result"
    }
   ],
   "source": [
    "dir(stack)"
   ]
  },
  {
   "cell_type": "code",
   "execution_count": 3,
   "id": "44dd70d6-dd08-46d8-b1ac-d5436c20cb89",
   "metadata": {},
   "outputs": [],
   "source": [
    "stack.append(\"https://edition.cnn.com/\")"
   ]
  },
  {
   "cell_type": "code",
   "execution_count": 4,
   "id": "b4aef580-a0b2-4d56-99bd-9d68f2ca4e71",
   "metadata": {},
   "outputs": [],
   "source": [
    "stack.append(\"https://edition.cnn.com/us\")\n",
    "stack.append(\"https://edition.cnn.com/world\")\n",
    "stack.append(\"https://edition.cnn.com/world/united-kingdom\")"
   ]
  },
  {
   "cell_type": "code",
   "execution_count": 5,
   "id": "34b5e5e7-3084-46e0-af33-6fc260d3ba5f",
   "metadata": {},
   "outputs": [
    {
     "data": {
      "text/plain": [
       "deque(['https://edition.cnn.com/',\n",
       "       'https://edition.cnn.com/us',\n",
       "       'https://edition.cnn.com/world',\n",
       "       'https://edition.cnn.com/world/united-kingdom'])"
      ]
     },
     "execution_count": 5,
     "metadata": {},
     "output_type": "execute_result"
    }
   ],
   "source": [
    "stack"
   ]
  },
  {
   "cell_type": "code",
   "execution_count": 6,
   "id": "3b9c6b7f-0cef-4b39-b1bb-a5dacfe77000",
   "metadata": {},
   "outputs": [
    {
     "data": {
      "text/plain": [
       "'https://edition.cnn.com/world/united-kingdom'"
      ]
     },
     "execution_count": 6,
     "metadata": {},
     "output_type": "execute_result"
    }
   ],
   "source": [
    "stack.pop()"
   ]
  },
  {
   "cell_type": "code",
   "execution_count": 7,
   "id": "a39e22ca-a41a-4fba-8621-87663eb0345d",
   "metadata": {},
   "outputs": [
    {
     "data": {
      "text/plain": [
       "'https://edition.cnn.com/world'"
      ]
     },
     "execution_count": 7,
     "metadata": {},
     "output_type": "execute_result"
    }
   ],
   "source": [
    "stack.pop()"
   ]
  },
  {
   "cell_type": "code",
   "execution_count": 90,
   "id": "c8c7fb8b-1762-4723-be1a-7647f7851b38",
   "metadata": {},
   "outputs": [],
   "source": [
    "class Stack:\n",
    "    def __init__(self):\n",
    "        self.container = deque()\n",
    "    def push(self, item):\n",
    "        return self.container.append(item)\n",
    "    def pop(self):\n",
    "        if len(self.container)==0:\n",
    "            raise IndexError(\"stack is empty\")\n",
    "        else:\n",
    "            return self.container.pop()\n",
    "    def peek(self):\n",
    "        return self.container\n",
    "    def size(self):\n",
    "        return len(self.container)"
   ]
  },
  {
   "cell_type": "code",
   "execution_count": 91,
   "id": "e106f928-49c3-41a2-9fe3-44467722ec1c",
   "metadata": {},
   "outputs": [],
   "source": [
    "s = Stack()"
   ]
  },
  {
   "cell_type": "code",
   "execution_count": 92,
   "id": "78f9bdd4-e930-4e81-bd2b-387e0cb3942b",
   "metadata": {},
   "outputs": [],
   "source": [
    "s.push(69)"
   ]
  },
  {
   "cell_type": "code",
   "execution_count": 93,
   "id": "0c9a123e-4b13-450b-ba39-0da7cde6a66e",
   "metadata": {},
   "outputs": [],
   "source": [
    "s.push(45)\n",
    "s.push(98)\n",
    "s.push(37)"
   ]
  },
  {
   "cell_type": "code",
   "execution_count": 94,
   "id": "d2fdd804-7d9a-4a9a-a699-03e74be869d1",
   "metadata": {},
   "outputs": [
    {
     "data": {
      "text/plain": [
       "deque([69, 45, 98, 37])"
      ]
     },
     "execution_count": 94,
     "metadata": {},
     "output_type": "execute_result"
    }
   ],
   "source": [
    "s.peek()"
   ]
  },
  {
   "cell_type": "code",
   "execution_count": 95,
   "id": "91257e83-3e0b-488a-87eb-b37cad2c7693",
   "metadata": {},
   "outputs": [
    {
     "data": {
      "text/plain": [
       "4"
      ]
     },
     "execution_count": 95,
     "metadata": {},
     "output_type": "execute_result"
    }
   ],
   "source": [
    "s.size()"
   ]
  },
  {
   "cell_type": "code",
   "execution_count": 96,
   "id": "58e8029c-1cc8-4522-8df4-61c801623ec2",
   "metadata": {},
   "outputs": [
    {
     "data": {
      "text/plain": [
       "37"
      ]
     },
     "execution_count": 96,
     "metadata": {},
     "output_type": "execute_result"
    }
   ],
   "source": [
    "s.pop()"
   ]
  },
  {
   "cell_type": "code",
   "execution_count": 97,
   "id": "257da174-0944-4e6c-9255-b8436f14ebb8",
   "metadata": {},
   "outputs": [
    {
     "data": {
      "text/plain": [
       "98"
      ]
     },
     "execution_count": 97,
     "metadata": {},
     "output_type": "execute_result"
    }
   ],
   "source": [
    "s.pop()"
   ]
  },
  {
   "cell_type": "code",
   "execution_count": 98,
   "id": "ff9857ba-b184-4132-8203-1c6137186661",
   "metadata": {},
   "outputs": [
    {
     "data": {
      "text/plain": [
       "45"
      ]
     },
     "execution_count": 98,
     "metadata": {},
     "output_type": "execute_result"
    }
   ],
   "source": [
    "s.pop()"
   ]
  },
  {
   "cell_type": "code",
   "execution_count": 99,
   "id": "83d80c13-9126-4eb2-874c-bef8aee95735",
   "metadata": {},
   "outputs": [
    {
     "data": {
      "text/plain": [
       "69"
      ]
     },
     "execution_count": 99,
     "metadata": {},
     "output_type": "execute_result"
    }
   ],
   "source": [
    "s.pop()"
   ]
  },
  {
   "cell_type": "code",
   "execution_count": 100,
   "id": "ea84d651-345e-4f9f-aadf-00a87cc6ef08",
   "metadata": {},
   "outputs": [
    {
     "ename": "IndexError",
     "evalue": "stack is empty",
     "output_type": "error",
     "traceback": [
      "\u001b[1;31m---------------------------------------------------------------------------\u001b[0m",
      "\u001b[1;31mIndexError\u001b[0m                                Traceback (most recent call last)",
      "Cell \u001b[1;32mIn[100], line 1\u001b[0m\n\u001b[1;32m----> 1\u001b[0m s\u001b[38;5;241m.\u001b[39mpop()\n",
      "Cell \u001b[1;32mIn[90], line 8\u001b[0m, in \u001b[0;36mStack.pop\u001b[1;34m(self)\u001b[0m\n\u001b[0;32m      6\u001b[0m \u001b[38;5;28;01mdef\u001b[39;00m \u001b[38;5;21mpop\u001b[39m(\u001b[38;5;28mself\u001b[39m):\n\u001b[0;32m      7\u001b[0m     \u001b[38;5;28;01mif\u001b[39;00m \u001b[38;5;28mlen\u001b[39m(\u001b[38;5;28mself\u001b[39m\u001b[38;5;241m.\u001b[39mcontainer)\u001b[38;5;241m==\u001b[39m\u001b[38;5;241m0\u001b[39m:\n\u001b[1;32m----> 8\u001b[0m         \u001b[38;5;28;01mraise\u001b[39;00m \u001b[38;5;167;01mIndexError\u001b[39;00m(\u001b[38;5;124m\"\u001b[39m\u001b[38;5;124mstack is empty\u001b[39m\u001b[38;5;124m\"\u001b[39m)\n\u001b[0;32m      9\u001b[0m     \u001b[38;5;28;01melse\u001b[39;00m:\n\u001b[0;32m     10\u001b[0m         \u001b[38;5;28;01mreturn\u001b[39;00m \u001b[38;5;28mself\u001b[39m\u001b[38;5;241m.\u001b[39mcontainer\u001b[38;5;241m.\u001b[39mpop()\n",
      "\u001b[1;31mIndexError\u001b[0m: stack is empty"
     ]
    }
   ],
   "source": [
    "s.pop()"
   ]
  },
  {
   "cell_type": "code",
   "execution_count": null,
   "id": "07ad22fa-4a28-46ed-90f5-2877c1ca7c36",
   "metadata": {},
   "outputs": [],
   "source": []
  }
 ],
 "metadata": {
  "kernelspec": {
   "display_name": "Python 3 (ipykernel)",
   "language": "python",
   "name": "python3"
  },
  "language_info": {
   "codemirror_mode": {
    "name": "ipython",
    "version": 3
   },
   "file_extension": ".py",
   "mimetype": "text/x-python",
   "name": "python",
   "nbconvert_exporter": "python",
   "pygments_lexer": "ipython3",
   "version": "3.12.4"
  }
 },
 "nbformat": 4,
 "nbformat_minor": 5
}
