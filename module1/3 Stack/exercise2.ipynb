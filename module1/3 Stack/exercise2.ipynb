{
 "cells": [
  {
   "cell_type": "code",
   "execution_count": 1,
   "id": "3ce7c75b-3acb-42e7-88d1-80d77dfbebe8",
   "metadata": {},
   "outputs": [],
   "source": [
    "from collections import deque"
   ]
  },
  {
   "cell_type": "code",
   "execution_count": 2,
   "id": "88ec1c09-6661-4277-a56e-cc899688df6a",
   "metadata": {
    "collapsed": true,
    "jupyter": {
     "outputs_hidden": true
    },
    "scrolled": true
   },
   "outputs": [
    {
     "data": {
      "text/plain": [
       "['__add__',\n",
       " '__class__',\n",
       " '__class_getitem__',\n",
       " '__contains__',\n",
       " '__copy__',\n",
       " '__delattr__',\n",
       " '__delitem__',\n",
       " '__dir__',\n",
       " '__doc__',\n",
       " '__eq__',\n",
       " '__format__',\n",
       " '__ge__',\n",
       " '__getattribute__',\n",
       " '__getitem__',\n",
       " '__getstate__',\n",
       " '__gt__',\n",
       " '__hash__',\n",
       " '__iadd__',\n",
       " '__imul__',\n",
       " '__init__',\n",
       " '__init_subclass__',\n",
       " '__iter__',\n",
       " '__le__',\n",
       " '__len__',\n",
       " '__lt__',\n",
       " '__module__',\n",
       " '__mul__',\n",
       " '__ne__',\n",
       " '__new__',\n",
       " '__reduce__',\n",
       " '__reduce_ex__',\n",
       " '__repr__',\n",
       " '__reversed__',\n",
       " '__rmul__',\n",
       " '__setattr__',\n",
       " '__setitem__',\n",
       " '__sizeof__',\n",
       " '__str__',\n",
       " '__subclasshook__',\n",
       " 'append',\n",
       " 'appendleft',\n",
       " 'clear',\n",
       " 'copy',\n",
       " 'count',\n",
       " 'extend',\n",
       " 'extendleft',\n",
       " 'index',\n",
       " 'insert',\n",
       " 'maxlen',\n",
       " 'pop',\n",
       " 'popleft',\n",
       " 'remove',\n",
       " 'reverse',\n",
       " 'rotate']"
      ]
     },
     "execution_count": 2,
     "metadata": {},
     "output_type": "execute_result"
    }
   ],
   "source": [
    "dir(deque)"
   ]
  },
  {
   "cell_type": "code",
   "execution_count": 20,
   "id": "01e1c320-63fb-439e-aafa-5f9a84e6de28",
   "metadata": {},
   "outputs": [],
   "source": [
    "class Stack:\n",
    "    def __init__(self):\n",
    "        self.container = deque()\n",
    "    def push(self, item):\n",
    "        return self.container.append(item)\n",
    "    def pop(self):\n",
    "        if len(self.container)==0:\n",
    "            raise IndexError(\"stack is empty\")\n",
    "        else:\n",
    "            return self.container.pop()\n",
    "    def peek(self):\n",
    "        return self.container\n",
    "    def size(self):\n",
    "        return len(self.container)\n",
    "\n",
    "    def reverse_string(self, text):\n",
    "        for char in text:\n",
    "            self.push(char)\n",
    "        for i in range(self.size()):\n",
    "            print(self.pop(), end='')\n",
    "\n",
    "    def is_balanced(self, formula):\n",
    "        mydict = {\n",
    "            ')' : '(',\n",
    "            '}' : '{',\n",
    "            ']' : '['\n",
    "        }\n",
    "        for char in formula:\n",
    "            if char == '(' or char == '{' or char == '[':\n",
    "                self.push(char)\n",
    "            elif char == ')' or char == '}' or char == ']':\n",
    "                if self.size() == 0 or mydict[char] != self.pop():\n",
    "                    return False\n",
    "                else:\n",
    "                    continue\n",
    "            else:\n",
    "                continue\n",
    "        return self.size() == 0"
   ]
  },
  {
   "cell_type": "code",
   "execution_count": 21,
   "id": "ed2fab32-a719-42c1-b1a2-5451d497d64b",
   "metadata": {},
   "outputs": [
    {
     "name": "stdout",
     "output_type": "stream",
     "text": [
      "True\n",
      "False\n",
      "True\n",
      "True\n",
      "False\n",
      "True\n"
     ]
    }
   ],
   "source": [
    "if __name__ == '__main__':\n",
    "    stack = Stack()\n",
    "    print(stack.is_balanced(\"({a+b})\"))\n",
    "    print(stack.is_balanced(\"))((a+b}{\"))\n",
    "    print(stack.is_balanced(\"((a+b))\"))\n",
    "    print(stack.is_balanced(\"((a+g))\"))\n",
    "    print(stack.is_balanced(\"))\"))\n",
    "    print(stack.is_balanced(\"[a+b]*(x+2y)*{gg+kk}\"))"
   ]
  },
  {
   "cell_type": "code",
   "execution_count": null,
   "id": "adcf9cb3-b241-4a1a-9c44-77045fa02d53",
   "metadata": {},
   "outputs": [],
   "source": []
  }
 ],
 "metadata": {
  "kernelspec": {
   "display_name": "Python 3 (ipykernel)",
   "language": "python",
   "name": "python3"
  },
  "language_info": {
   "codemirror_mode": {
    "name": "ipython",
    "version": 3
   },
   "file_extension": ".py",
   "mimetype": "text/x-python",
   "name": "python",
   "nbconvert_exporter": "python",
   "pygments_lexer": "ipython3",
   "version": "3.12.4"
  }
 },
 "nbformat": 4,
 "nbformat_minor": 5
}
