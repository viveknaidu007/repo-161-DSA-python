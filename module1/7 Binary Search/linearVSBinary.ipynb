{
 "cells": [
  {
   "cell_type": "code",
   "execution_count": 21,
   "id": "35c884f6-b1a8-426d-8b9c-e936b6e5a7b5",
   "metadata": {},
   "outputs": [],
   "source": [
    "def linear_search(nums_list: list[int], target_num: int) -> int:\n",
    "    for index, val in enumerate(nums_list):\n",
    "        if val == target_num:\n",
    "            return index\n",
    "    return -1"
   ]
  },
  {
   "cell_type": "code",
   "execution_count": 22,
   "id": "deff9ee3-73a4-4a88-a118-f3847f0c3bf7",
   "metadata": {},
   "outputs": [
    {
     "name": "stdout",
     "output_type": "stream",
     "text": [
      "Target 45 found at index 6 using linear search\n"
     ]
    }
   ],
   "source": [
    "if __name__ == \"__main__\":\n",
    "    myList = [12, 15, 17, 19, 21, 24, 45, 67]\n",
    "    target = 45\n",
    "\n",
    "    index = linear_search(myList, target)\n",
    "    print(f\"Target {target} found at index {index} using linear search\")"
   ]
  },
  {
   "cell_type": "markdown",
   "id": "cde8f99d-5950-471c-ae0a-536e86350d3b",
   "metadata": {},
   "source": [
    "For Linear Search:\n",
    "- 7 iterations\n",
    "- Time complexity: O(n)"
   ]
  },
  {
   "cell_type": "code",
   "execution_count": 23,
   "id": "96fde96b-812f-467d-9157-d6faa8e328f0",
   "metadata": {},
   "outputs": [],
   "source": [
    "def binary_search(nums_list: list[int], target_num: int) -> int:\n",
    "    left_index = 0\n",
    "    right_index = len(nums_list) - 1\n",
    "    mid_index = 0\n",
    "    while left_index <= right_index:\n",
    "        mid_index = (left_index + right_index) // 2\n",
    "        mid_num = nums_list[mid_index]\n",
    "\n",
    "        if mid_num == target_num:\n",
    "            return mid_index\n",
    "        elif mid_num < target_num:\n",
    "            left_index = mid_index + 1\n",
    "        else:\n",
    "            right_index = mid_index - 1\n",
    "    return -1"
   ]
  },
  {
   "cell_type": "code",
   "execution_count": 24,
   "id": "6db0fde9-98d5-4176-b4a1-10dee6963b07",
   "metadata": {},
   "outputs": [
    {
     "name": "stdout",
     "output_type": "stream",
     "text": [
      "Target 45 found at index 6 using Binary search\n"
     ]
    }
   ],
   "source": [
    "if __name__ == \"__main__\":\n",
    "    myList = [12, 15, 17, 19, 21, 24, 45, 67]\n",
    "    target = 45\n",
    "\n",
    "    index = binary_search(myList, target)\n",
    "    print(f\"Target {target} found at index {index} using Binary search\")"
   ]
  },
  {
   "cell_type": "markdown",
   "id": "bc04b584-c4a7-45eb-a41e-5313e66339b3",
   "metadata": {},
   "source": [
    "For Binary Search:\n",
    "- 3 iterations\n",
    "- Time complexity: O(logn)"
   ]
  },
  {
   "cell_type": "code",
   "execution_count": 39,
   "id": "4ecbf163-1dc5-4831-87d1-97094aa56344",
   "metadata": {},
   "outputs": [],
   "source": [
    "def binary_search_recursive(nums_list, target_num, left_index, right_index) -> int:\n",
    "    if left_index > right_index:\n",
    "        return -1\n",
    "    mid_index = (left_index + right_index)//2\n",
    "    mid_val = nums_list[mid_index]\n",
    "\n",
    "    if mid_val == target_num:\n",
    "        return mid_index\n",
    "    elif mid_val < target_num:\n",
    "        left_index = mid_index + 1\n",
    "    else:\n",
    "        right_index = mid_index - 1\n",
    "    return binary_search_recursive(nums_list, target_num, left_index, right_index)"
   ]
  },
  {
   "cell_type": "code",
   "execution_count": 46,
   "id": "e596bb55-c06e-4f7f-b72b-c776f9ffeb32",
   "metadata": {},
   "outputs": [
    {
     "name": "stdout",
     "output_type": "stream",
     "text": [
      "Target 24 found at index 5 using Binary recursive search\n"
     ]
    }
   ],
   "source": [
    "if __name__ == \"__main__\":\n",
    "    myList = [12, 15, 17, 19, 21, 24, 45, 67]\n",
    "    target = 24\n",
    "\n",
    "    index = binary_search_recursive(myList, target, left_index=0, right_index=len(myList)-1)\n",
    "    print(f\"Target {target} found at index {index} using Binary recursive search\")"
   ]
  },
  {
   "cell_type": "code",
   "execution_count": null,
   "id": "2d70a010-0a8d-4a6c-9818-ef0bf2dea5ab",
   "metadata": {},
   "outputs": [],
   "source": []
  }
 ],
 "metadata": {
  "kernelspec": {
   "display_name": "Python 3 (ipykernel)",
   "language": "python",
   "name": "python3"
  },
  "language_info": {
   "codemirror_mode": {
    "name": "ipython",
    "version": 3
   },
   "file_extension": ".py",
   "mimetype": "text/x-python",
   "name": "python",
   "nbconvert_exporter": "python",
   "pygments_lexer": "ipython3",
   "version": "3.12.4"
  }
 },
 "nbformat": 4,
 "nbformat_minor": 5
}
