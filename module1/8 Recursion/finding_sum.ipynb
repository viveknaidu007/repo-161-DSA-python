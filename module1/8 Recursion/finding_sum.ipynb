{
 "cells": [
  {
   "cell_type": "code",
   "execution_count": 8,
   "id": "951e809a-fcdb-4b3f-954f-effd5aa25dea",
   "metadata": {},
   "outputs": [],
   "source": [
    "def find_sum(n):\n",
    "    sum = 0\n",
    "    for i in range(1,n+1):\n",
    "        sum += i\n",
    "    return sum"
   ]
  },
  {
   "cell_type": "code",
   "execution_count": 10,
   "id": "15f0bf3f-31f4-40a0-af87-8034fabaad13",
   "metadata": {},
   "outputs": [
    {
     "name": "stdout",
     "output_type": "stream",
     "text": [
      "21\n"
     ]
    }
   ],
   "source": [
    "if __name__ == \"__main__\":\n",
    "    print(find_sum(6))"
   ]
  },
  {
   "cell_type": "markdown",
   "id": "363da270-f25d-457c-a295-41d477f55c2c",
   "metadata": {},
   "source": [
    "Here, time complexity is O(n)"
   ]
  },
  {
   "cell_type": "markdown",
   "id": "3779cd43-91f1-4fa9-8755-722cf98c684b",
   "metadata": {},
   "source": [
    "## Recursion"
   ]
  },
  {
   "cell_type": "code",
   "execution_count": 4,
   "id": "c5c4614a-0fc1-4361-80ff-51fb86b25300",
   "metadata": {},
   "outputs": [],
   "source": [
    "def find_sum(n):\n",
    "    if n == 1:\n",
    "        return 1\n",
    "    return n + find_sum(n-1)\n",
    "\n",
    "def find_mul(n):\n",
    "    if n == 1:\n",
    "        return 1\n",
    "    return n * find_mul(n-1)\n",
    "\n",
    "def find_sum_squares(n):\n",
    "    if n == 1:\n",
    "        return 1\n",
    "    return n ** 2 + find_sum_squares(n-1)"
   ]
  },
  {
   "cell_type": "code",
   "execution_count": 6,
   "id": "42935b55-a997-4d69-aef2-6730f50a736f",
   "metadata": {},
   "outputs": [
    {
     "name": "stdout",
     "output_type": "stream",
     "text": [
      "sum of first 5 nums: 15\n",
      "multiples of first 5 nums: 120\n",
      "sum of first 5 squares nums: 55\n"
     ]
    }
   ],
   "source": [
    "if __name__ == \"__main__\":\n",
    "    print(f\"sum of first 5 nums: {find_sum(5)}\")\n",
    "    print(f\"multiples of first 5 nums: {find_mul(5)}\")\n",
    "    print(f\"sum of first 5 squares nums: {find_sum_squares(5)}\")"
   ]
  },
  {
   "cell_type": "code",
   "execution_count": null,
   "id": "9204b1a3-9def-4b76-b039-ec1580f97250",
   "metadata": {},
   "outputs": [],
   "source": []
  }
 ],
 "metadata": {
  "kernelspec": {
   "display_name": "Python 3 (ipykernel)",
   "language": "python",
   "name": "python3"
  },
  "language_info": {
   "codemirror_mode": {
    "name": "ipython",
    "version": 3
   },
   "file_extension": ".py",
   "mimetype": "text/x-python",
   "name": "python",
   "nbconvert_exporter": "python",
   "pygments_lexer": "ipython3",
   "version": "3.12.4"
  }
 },
 "nbformat": 4,
 "nbformat_minor": 5
}
