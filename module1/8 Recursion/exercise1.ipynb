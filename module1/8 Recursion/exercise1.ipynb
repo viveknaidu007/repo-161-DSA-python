{
 "cells": [
  {
   "cell_type": "markdown",
   "id": "6d6ec383-32ab-43cc-a431-3ffee00f6c1f",
   "metadata": {},
   "source": [
    "how fibonacci nums work: 0, 1, 1(0+1), 2(1+1), 3(2+1), 5(3+2), 8(5+3)\n",
    "\n",
    "Definition: It is the series of numbers where each number is the sum of the two preceding numbers\n",
    "#### Fibonacci sequence: 0, 1, 1, 2, 3, 5, 8, ..."
   ]
  },
  {
   "cell_type": "code",
   "execution_count": 13,
   "id": "c83b92ba-f405-421f-bbbe-ca40c9033874",
   "metadata": {},
   "outputs": [],
   "source": [
    "# 0, 1, 1, 2, 3, 5, 8\n",
    "# 0, 1, 2, 3, 4, 5, 6\n",
    "def get_fibonacci(n):\n",
    "    if n == 0 or n == 1:\n",
    "        return n\n",
    "    return get_fibonacci(n-1) + get_fibonacci(n-2)\n",
    "\n",
    "def fibonacci(n, fib_nums=None):\n",
    "    if fib_nums is None:\n",
    "        fib_nums = [0, 1]\n",
    "    if n == 1:\n",
    "        return fib_nums[0]\n",
    "    if n < 1:\n",
    "        raise IndexError(\"List cannot be empty\")\n",
    "\n",
    "    if len(fib_nums) == n:\n",
    "        return fib_nums\n",
    "    else:\n",
    "        fib_nums.append(fib_nums[-1] + fib_nums[-2])\n",
    "        return fibonacci(n, fib_nums)"
   ]
  },
  {
   "cell_type": "code",
   "execution_count": 27,
   "id": "254d113a-a095-4a01-8709-60dbae231d22",
   "metadata": {},
   "outputs": [
    {
     "name": "stdout",
     "output_type": "stream",
     "text": [
      "8\n"
     ]
    }
   ],
   "source": [
    "if __name__ == \"__main__\":\n",
    "    print(get_fibonacci(6))\n",
    "    # print(fibonacci(12))"
   ]
  },
  {
   "cell_type": "code",
   "execution_count": null,
   "id": "811d4fa3-0b47-40e7-8b8d-9aa974f5bc1f",
   "metadata": {},
   "outputs": [],
   "source": [
    "def fibonacci(n):\n",
    "    fib_nums = [0, 1]\n",
    "    if n == 1:\n",
    "        return fib_nums[0]\n",
    "    if n < 1:\n",
    "        raise IndexError(\"List cannot be empty\")\n",
    "        \n",
    "    for i in range(n):\n",
    "        if len(fib_nums) == n:\n",
    "            return fib_nums\n",
    "        else:\n",
    "            fib_nums.append(fib_nums[-1]+fib_nums[-2])\n",
    "    return fib_nums"
   ]
  },
  {
   "cell_type": "code",
   "execution_count": null,
   "id": "438bc3f6-d361-4127-976a-3803043c12ab",
   "metadata": {},
   "outputs": [],
   "source": [
    "def fibonacci(n, fib_nums=None):\n",
    "    if fib_nums is None:\n",
    "        fib_nums = [0, 1]\n",
    "    if n < 1:\n",
    "        raise IndexError(\"List cannot be empty\")\n",
    "\n",
    "    if len(fib_nums) == n:\n",
    "        return fib_nums[:n]\n",
    "    fib_nums.append(fib_nums[-1] + fib_nums[-2])\n",
    "    return fibonacci(n, fib_nums)"
   ]
  }
 ],
 "metadata": {
  "kernelspec": {
   "display_name": "Python 3 (ipykernel)",
   "language": "python",
   "name": "python3"
  },
  "language_info": {
   "codemirror_mode": {
    "name": "ipython",
    "version": 3
   },
   "file_extension": ".py",
   "mimetype": "text/x-python",
   "name": "python",
   "nbconvert_exporter": "python",
   "pygments_lexer": "ipython3",
   "version": "3.12.4"
  }
 },
 "nbformat": 4,
 "nbformat_minor": 5
}
