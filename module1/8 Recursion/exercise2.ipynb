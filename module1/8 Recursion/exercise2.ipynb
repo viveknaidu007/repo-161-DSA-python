{
 "cells": [
  {
   "cell_type": "markdown",
   "id": "3048defe-a793-4175-9a46-8a65fce12e33",
   "metadata": {},
   "source": [
    "Write a Python program to calculate the sum of a list of numbers using recursion."
   ]
  },
  {
   "cell_type": "code",
   "execution_count": 5,
   "id": "c21c9cae-2e2e-4c70-aba5-ccc91ad2e254",
   "metadata": {},
   "outputs": [],
   "source": [
    "def get_sum(nums: list[int]) -> int:\n",
    "    if len(nums) == 1:\n",
    "        return nums[0]\n",
    "    else:\n",
    "        return nums[0] + get_sum(nums[1:])"
   ]
  },
  {
   "cell_type": "code",
   "execution_count": 6,
   "id": "a7fc397b-d5ea-465f-86d2-9a2dcdb4a965",
   "metadata": {},
   "outputs": [
    {
     "data": {
      "text/plain": [
       "24"
      ]
     },
     "execution_count": 6,
     "metadata": {},
     "output_type": "execute_result"
    }
   ],
   "source": [
    "nums = [2, 4, 5, 6, 7]\n",
    "\n",
    "get_sum(nums)"
   ]
  },
  {
   "cell_type": "markdown",
   "id": "795dfe55-fd22-42d3-bd02-d4691b3cbb41",
   "metadata": {},
   "source": [
    "Write a Python program to sum recursion lists using recursion."
   ]
  },
  {
   "cell_type": "code",
   "execution_count": 21,
   "id": "1946935d-176f-46ed-9aec-8702a00f8102",
   "metadata": {},
   "outputs": [],
   "source": [
    "# Brute force approach\n",
    "def sum_recursion(nums: list) -> int:\n",
    "    sum = 0\n",
    "    if len(nums) == 1:\n",
    "        return nums[0]\n",
    "    else:\n",
    "        for num in nums:\n",
    "            if type(num) == list:\n",
    "                for n in num:\n",
    "                    sum += n\n",
    "            else:\n",
    "                sum +=num\n",
    "    return sum"
   ]
  },
  {
   "cell_type": "code",
   "execution_count": 22,
   "id": "3d3e1505-8271-4452-accd-54d0b551315f",
   "metadata": {},
   "outputs": [
    {
     "name": "stdout",
     "output_type": "stream",
     "text": [
      "21\n"
     ]
    }
   ],
   "source": [
    "data = [1, 2, [3,4], [5,6]]\n",
    "\n",
    "print(sum_recursion(data))"
   ]
  },
  {
   "cell_type": "code",
   "execution_count": 27,
   "id": "fea8b1f1-7fd8-4824-b181-ae0f5dc80cec",
   "metadata": {},
   "outputs": [],
   "source": [
    "# Recursion\n",
    "def sum_recursion(nums: list) -> int:\n",
    "    total = 0\n",
    "    if len(nums) == 1:\n",
    "        return nums[0]\n",
    "    else:\n",
    "        for num in nums:\n",
    "            if type(num) == list:\n",
    "                total += sum_recursion(num)\n",
    "            else:\n",
    "                total += num\n",
    "    return total"
   ]
  },
  {
   "cell_type": "code",
   "execution_count": 28,
   "id": "03dd97d4-df5e-47b8-9bce-35b175cc72ba",
   "metadata": {},
   "outputs": [
    {
     "name": "stdout",
     "output_type": "stream",
     "text": [
      "21\n"
     ]
    }
   ],
   "source": [
    "data = [1, 2, [3,4], [5,6]]\n",
    "\n",
    "print(sum_recursion(data))"
   ]
  },
  {
   "cell_type": "code",
   "execution_count": null,
   "id": "1cb5357f-dffe-4f0a-869a-bee87a9702a3",
   "metadata": {},
   "outputs": [],
   "source": []
  }
 ],
 "metadata": {
  "kernelspec": {
   "display_name": "Python 3 (ipykernel)",
   "language": "python",
   "name": "python3"
  },
  "language_info": {
   "codemirror_mode": {
    "name": "ipython",
    "version": 3
   },
   "file_extension": ".py",
   "mimetype": "text/x-python",
   "name": "python",
   "nbconvert_exporter": "python",
   "pygments_lexer": "ipython3",
   "version": "3.12.4"
  }
 },
 "nbformat": 4,
 "nbformat_minor": 5
}
