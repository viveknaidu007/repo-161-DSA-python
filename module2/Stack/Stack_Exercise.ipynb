{
 "cells": [
  {
   "cell_type": "markdown",
   "id": "1127dd24",
   "metadata": {},
   "source": [
    "<h2 style='text-align: center;'><font color='purple'>Data Structures: Stack Exercise</font></h2>"
   ]
  },
  {
   "cell_type": "markdown",
   "id": "a13a836c",
   "metadata": {},
   "source": [
    "    Write a function in python that can reverse a string using stack data structure. Use Stack class from the tutorial.\n",
    "    reverse_string(\"We will conquere COVID-19\") should return \"91-DIVOC ereuqnoc lliw eW\""
   ]
  },
  {
   "cell_type": "code",
   "execution_count": 1,
   "id": "3eb1a549",
   "metadata": {},
   "outputs": [],
   "source": [
    "from collections import deque"
   ]
  },
  {
   "cell_type": "code",
   "execution_count": 2,
   "id": "a9e31446",
   "metadata": {},
   "outputs": [],
   "source": [
    "class Stack:\n",
    "    def __init__(self):\n",
    "        self.container = deque()\n",
    "    \n",
    "    def push(self,val):\n",
    "        self.container.append(val)\n",
    "        \n",
    "    def pop(self):\n",
    "        return self.container.pop()\n",
    "    \n",
    "    def peek(self):\n",
    "        return  self.container[-1]\n",
    "    \n",
    "    def is_empty(self):\n",
    "        return len(self.container)==0\n",
    "    \n",
    "    def size(self):\n",
    "        return len(self.container)"
   ]
  },
  {
   "cell_type": "code",
   "execution_count": 3,
   "id": "00aef26f",
   "metadata": {},
   "outputs": [],
   "source": [
    "def reverse_string(string):\n",
    "    s = Stack()\n",
    "    for char in string:\n",
    "        s.push(char)\n",
    "    \n",
    "    reversed_string = \"\"\n",
    "    \n",
    "    while not s.is_empty():\n",
    "        reversed_string+=s.pop()\n",
    "    return reversed_string"
   ]
  },
  {
   "cell_type": "code",
   "execution_count": 4,
   "id": "0bed681b",
   "metadata": {},
   "outputs": [
    {
     "name": "stdout",
     "output_type": "stream",
     "text": [
      "91-DIVOC ereuqnoc lliw eW\n"
     ]
    }
   ],
   "source": [
    "print(reverse_string(\"We will conquere COVID-19\"))"
   ]
  },
  {
   "cell_type": "code",
   "execution_count": null,
   "id": "558c7a47",
   "metadata": {},
   "outputs": [],
   "source": []
  }
 ],
 "metadata": {
  "kernelspec": {
   "display_name": "Python 3 (ipykernel)",
   "language": "python",
   "name": "python3"
  },
  "language_info": {
   "codemirror_mode": {
    "name": "ipython",
    "version": 3
   },
   "file_extension": ".py",
   "mimetype": "text/x-python",
   "name": "python",
   "nbconvert_exporter": "python",
   "pygments_lexer": "ipython3",
   "version": "3.11.2"
  }
 },
 "nbformat": 4,
 "nbformat_minor": 5
}
