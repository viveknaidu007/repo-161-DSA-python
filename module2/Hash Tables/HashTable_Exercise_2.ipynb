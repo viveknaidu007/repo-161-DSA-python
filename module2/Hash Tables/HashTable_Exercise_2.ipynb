{
 "cells": [
  {
   "cell_type": "markdown",
   "id": "3ba55905",
   "metadata": {},
   "source": [
    "##    Question:\n",
    "## nyc_weather.csv contains new york city weather for first few days in the month of January. Write a program that can answer following,\n",
    "###    What was the temperature on Jan 9?\n",
    "###    What was the temperature on Jan 4?\n",
    "###    Figure out data structure that is best for this problem"
   ]
  },
  {
   "cell_type": "markdown",
   "id": "66680948",
   "metadata": {},
   "source": [
    "## Solution:\n",
    "## The best data structure to use here was a dictionary (internally a hash table) because we wanted to know temperature for specific day, requiring key, value pair access where you can look up an element by day using O(1) complexity"
   ]
  },
  {
   "cell_type": "code",
   "execution_count": 1,
   "id": "92fdd275",
   "metadata": {},
   "outputs": [
    {
     "name": "stdout",
     "output_type": "stream",
     "text": [
      "Invalid temperature.Ignore the row\n"
     ]
    }
   ],
   "source": [
    "weather_dict = {}\n",
    "\n",
    "with open(\"nyc_weather.csv\",\"r\") as f:\n",
    "    for line in f:\n",
    "        tokens = line.split(',')\n",
    "        day = tokens[0]\n",
    "        try:\n",
    "            temperature = int(tokens[1])\n",
    "            weather_dict[day] = temperature\n",
    "        except:\n",
    "            print(\"Invalid temperature.Ignore the row\")"
   ]
  },
  {
   "cell_type": "code",
   "execution_count": 2,
   "id": "aedf5b86",
   "metadata": {},
   "outputs": [
    {
     "data": {
      "text/plain": [
       "{'Jan 1': 27,\n",
       " 'Jan 2': 31,\n",
       " 'Jan 3': 23,\n",
       " 'Jan 4': 34,\n",
       " 'Jan 5': 37,\n",
       " 'Jan 6': 38,\n",
       " 'Jan 7': 29,\n",
       " 'Jan 8': 30,\n",
       " 'Jan 9': 35,\n",
       " 'Jan 10': 30}"
      ]
     },
     "execution_count": 2,
     "metadata": {},
     "output_type": "execute_result"
    }
   ],
   "source": [
    "weather_dict"
   ]
  },
  {
   "cell_type": "markdown",
   "id": "3ef1d86f",
   "metadata": {},
   "source": [
    "#### What was the temperature on Jan 9?"
   ]
  },
  {
   "cell_type": "code",
   "execution_count": 3,
   "id": "9f072c93",
   "metadata": {},
   "outputs": [
    {
     "data": {
      "text/plain": [
       "35"
      ]
     },
     "execution_count": 3,
     "metadata": {},
     "output_type": "execute_result"
    }
   ],
   "source": [
    "weather_dict[\"Jan 9\"]"
   ]
  },
  {
   "cell_type": "markdown",
   "id": "b51a82fd",
   "metadata": {},
   "source": [
    "#### What was the temperature on Jan 4?"
   ]
  },
  {
   "cell_type": "code",
   "execution_count": 4,
   "id": "f13795ba",
   "metadata": {},
   "outputs": [
    {
     "data": {
      "text/plain": [
       "34"
      ]
     },
     "execution_count": 4,
     "metadata": {},
     "output_type": "execute_result"
    }
   ],
   "source": [
    "weather_dict[\"Jan 4\"]"
   ]
  },
  {
   "cell_type": "markdown",
   "id": "b1fd9099",
   "metadata": {},
   "source": []
  }
 ],
 "metadata": {
  "kernelspec": {
   "display_name": "Python 3 (ipykernel)",
   "language": "python",
   "name": "python3"
  },
  "language_info": {
   "codemirror_mode": {
    "name": "ipython",
    "version": 3
   },
   "file_extension": ".py",
   "mimetype": "text/x-python",
   "name": "python",
   "nbconvert_exporter": "python",
   "pygments_lexer": "ipython3",
   "version": "3.11.2"
  }
 },
 "nbformat": 4,
 "nbformat_minor": 5
}
