{
 "cells": [
  {
   "cell_type": "markdown",
   "id": "0b6225a2",
   "metadata": {},
   "source": [
    "# Implement hash table collision handling using linear probing"
   ]
  },
  {
   "cell_type": "code",
   "execution_count": 1,
   "id": "694e11cc",
   "metadata": {},
   "outputs": [],
   "source": [
    "class HashTable:  \n",
    "    def __init__(self):\n",
    "        self.MAX = 10 # I am keeping size very low to demonstrate linear probing easily but usually the size should be high\n",
    "        self.arr = [None for i in range(self.MAX)]\n",
    "        \n",
    "    def get_hash(self, key):\n",
    "        hash = 0\n",
    "        for char in key:\n",
    "            hash += ord(char)\n",
    "        return hash % self.MAX\n",
    "    \n",
    "    def __getitem__(self, key):\n",
    "        h = self.get_hash(key)\n",
    "        if self.arr[h] is None:\n",
    "            return\n",
    "        prob_range = self.get_prob_range(h)\n",
    "        for prob_index in prob_range:\n",
    "            element = self.arr[prob_index]\n",
    "            if element is None:\n",
    "                return\n",
    "            if element[0] == key:\n",
    "                return element[1]\n",
    "           \n",
    "    def __setitem__(self, key, val):\n",
    "        h = self.get_hash(key)\n",
    "        if self.arr[h] is None:\n",
    "            self.arr[h] = (key,val)\n",
    "        else:\n",
    "            new_h = self.find_slot(key, h)\n",
    "            self.arr[new_h] = (key,val)\n",
    "        print(self.arr)\n",
    "        \n",
    "    def get_prob_range(self, index):\n",
    "        return [*range(index, len(self.arr))] + [*range(0,index)]\n",
    "    \n",
    "    def find_slot(self, key, index):\n",
    "        prob_range = self.get_prob_range(index)\n",
    "        for prob_index in prob_range:\n",
    "            if self.arr[prob_index] is None:\n",
    "                return prob_index\n",
    "            if self.arr[prob_index][0] == key:\n",
    "                return prob_index\n",
    "        raise Exception(\"Hashmap full\")\n",
    "        \n",
    "    def __delitem__(self, key):\n",
    "        h = self.get_hash(key)\n",
    "        prob_range = self.get_prob_range(h)\n",
    "        for prob_index in prob_range:\n",
    "            if self.arr[prob_index] is None:\n",
    "                return # item not found so return. You can also throw exception\n",
    "            if self.arr[prob_index][0] == key:\n",
    "                self.arr[prob_index]=None\n",
    "        print(self.arr)"
   ]
  },
  {
   "cell_type": "code",
   "execution_count": 2,
   "id": "c3d51254",
   "metadata": {},
   "outputs": [],
   "source": [
    "t = HashTable()"
   ]
  },
  {
   "cell_type": "code",
   "execution_count": 4,
   "id": "35b64a73",
   "metadata": {},
   "outputs": [
    {
     "data": {
      "text/plain": [
       "9"
      ]
     },
     "execution_count": 4,
     "metadata": {},
     "output_type": "execute_result"
    }
   ],
   "source": [
    "t.get_hash(\"march 6\")"
   ]
  },
  {
   "cell_type": "code",
   "execution_count": 5,
   "id": "dff18f91",
   "metadata": {},
   "outputs": [
    {
     "data": {
      "text/plain": [
       "9"
      ]
     },
     "execution_count": 5,
     "metadata": {},
     "output_type": "execute_result"
    }
   ],
   "source": [
    "t.get_hash(\"march 17\")"
   ]
  },
  {
   "cell_type": "markdown",
   "id": "4a4a0979",
   "metadata": {},
   "source": [
    "## Therefore we have two different keys with same hash function. so, we used linear probing to handle this collision."
   ]
  },
  {
   "cell_type": "code",
   "execution_count": 6,
   "id": "def1b563",
   "metadata": {},
   "outputs": [
    {
     "name": "stdout",
     "output_type": "stream",
     "text": [
      "[None, None, None, None, None, None, None, None, None, ('march 6', 50)]\n",
      "[('march 17', 100), None, None, None, None, None, None, None, None, ('march 6', 50)]\n"
     ]
    }
   ],
   "source": [
    "t[\"march 6\"] = 50\n",
    "t[\"march 17\"] = 100"
   ]
  },
  {
   "cell_type": "code",
   "execution_count": 8,
   "id": "7651d30e",
   "metadata": {},
   "outputs": [
    {
     "data": {
      "text/plain": [
       "[('march 17', 100),\n",
       " None,\n",
       " None,\n",
       " None,\n",
       " None,\n",
       " None,\n",
       " None,\n",
       " None,\n",
       " None,\n",
       " ('march 6', 50)]"
      ]
     },
     "execution_count": 8,
     "metadata": {},
     "output_type": "execute_result"
    }
   ],
   "source": [
    "t.arr # as we can see the hash function 9 is full so it shifted to next i.e., index 0 = ('march 17', 100)"
   ]
  },
  {
   "cell_type": "code",
   "execution_count": 9,
   "id": "909daed8",
   "metadata": {},
   "outputs": [
    {
     "data": {
      "text/plain": [
       "0"
      ]
     },
     "execution_count": 9,
     "metadata": {},
     "output_type": "execute_result"
    }
   ],
   "source": [
    "t.get_hash(\"nov 1\")"
   ]
  },
  {
   "cell_type": "code",
   "execution_count": 10,
   "id": "4395628c",
   "metadata": {},
   "outputs": [
    {
     "name": "stdout",
     "output_type": "stream",
     "text": [
      "[('march 17', 100), ('nov 1', 150), None, None, None, None, None, None, None, ('march 6', 50)]\n"
     ]
    }
   ],
   "source": [
    "t[\"nov 1\"] = 150"
   ]
  },
  {
   "cell_type": "code",
   "execution_count": 13,
   "id": "f96b800d",
   "metadata": {},
   "outputs": [
    {
     "data": {
      "text/plain": [
       "[('march 17', 100),\n",
       " ('nov 1', 150),\n",
       " None,\n",
       " None,\n",
       " None,\n",
       " None,\n",
       " None,\n",
       " None,\n",
       " None,\n",
       " ('march 6', 50)]"
      ]
     },
     "execution_count": 13,
     "metadata": {},
     "output_type": "execute_result"
    }
   ],
   "source": [
    "t.arr # here nov 1 has hash function 0 but the index 0 is full. So, it shifted to next i.e., index 1 = ('nov 1', 150)"
   ]
  }
 ],
 "metadata": {
  "kernelspec": {
   "display_name": "Python 3 (ipykernel)",
   "language": "python",
   "name": "python3"
  },
  "language_info": {
   "codemirror_mode": {
    "name": "ipython",
    "version": 3
   },
   "file_extension": ".py",
   "mimetype": "text/x-python",
   "name": "python",
   "nbconvert_exporter": "python",
   "pygments_lexer": "ipython3",
   "version": "3.11.2"
  }
 },
 "nbformat": 4,
 "nbformat_minor": 5
}
